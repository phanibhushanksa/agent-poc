{
 "cells": [
  {
   "cell_type": "markdown",
   "metadata": {},
   "source": [
    "# References\n",
    "1. [Langraph Documenation](https://langchain-ai.github.io/langgraph/tutorials/introduction/#requirements)\n",
    "2. [Medium](https://medium.com/@kbdhunga/beginners-guide-to-langgraph-understanding-state-nodes-and-edges-part-1-897e6114fa48)\n"
   ]
  },
  {
   "cell_type": "code",
   "execution_count": 1,
   "metadata": {},
   "outputs": [],
   "source": [
    "import os"
   ]
  },
  {
   "cell_type": "code",
   "execution_count": 4,
   "metadata": {},
   "outputs": [],
   "source": [
    "from typing import Annotated\n",
    "\n",
    "from typing_extensions import TypedDict\n",
    "\n",
    "from langgraph.graph import StateGraph, START, END\n",
    "from langgraph.graph.message import add_messages\n",
    "\n",
    "from IPython.display import Image, display\n"
   ]
  },
  {
   "cell_type": "markdown",
   "metadata": {},
   "source": [
    "# implementing a simple graph using langraph\n"
   ]
  },
  {
   "cell_type": "code",
   "execution_count": 11,
   "metadata": {},
   "outputs": [
    {
     "data": {
      "image/png": "[encoded data removed]",
      "text/plain": [
       "<IPython.core.display.Image object>"
      ]
     },
     "metadata": {},
     "output_type": "display_data"
    }
   ],
   "source": [
    "\n",
    "simple_graph_builder = StateGraph(int)\n",
    "\n",
    "def add(state):\n",
    "    print(state)\n",
    "    return state+1\n",
    "\n",
    "def multiply(state):\n",
    "    print(state)\n",
    "    return state*2\n",
    "\n",
    "simple_graph_builder.add_node(\"add\",add)\n",
    "simple_graph_builder.add_node(\"multiply\",multiply)\n",
    "simple_graph_builder.add_edge(START,\"add\")\n",
    "simple_graph_builder.add_edge(\"add\",\"multiply\")\n",
    "simple_graph_builder.add_edge(\"multiply\",END)\n",
    "\n",
    "simple_graph = simple_graph_builder.compile()\n",
    "\n",
    "display(Image(simple_graph.get_graph().draw_mermaid_png()))"
   ]
  },
  {
   "cell_type": "code",
   "execution_count": 12,
   "metadata": {},
   "outputs": [
    {
     "name": "stdout",
     "output_type": "stream",
     "text": [
      "1\n",
      "2\n"
     ]
    },
    {
     "data": {
      "text/plain": [
       "4"
      ]
     },
     "execution_count": 12,
     "metadata": {},
     "output_type": "execute_result"
    }
   ],
   "source": [
    "simple_graph.invoke(1)"
   ]
  },
  {
   "cell_type": "markdown",
   "metadata": {},
   "source": [
    "# Langraph with a State class"
   ]
  },
  {
   "cell_type": "code",
   "execution_count": 3,
   "metadata": {},
   "outputs": [],
   "source": [
    "class State(TypedDict):\n",
    "    # Messages have the type \"list\". The `add_messages` function\n",
    "    # in the annotation defines how this state key should be updated\n",
    "    # (in this case, it appends messages to the list, rather than overwriting them)\n",
    "    messages: Annotated[list, add_messages]"
   ]
  },
  {
   "cell_type": "markdown",
   "metadata": {},
   "source": [
    "* A StateGraph object defines the structure of our chatbot as a \"state machine\"\n",
    "* A graph whose nodes communicate by reading and writing to a shared state"
   ]
  },
  {
   "cell_type": "code",
   "execution_count": 4,
   "metadata": {},
   "outputs": [],
   "source": [
    "graph_builder = StateGraph(State)"
   ]
  },
  {
   "cell_type": "markdown",
   "metadata": {},
   "source": [
    "* When defining a graph, the first step is to define its State. The State includes the graph's schema and reducer functions that handle state updates. \n",
    "* In our example, State is a TypedDict with one key: messages. \n",
    "* The add_messages reducer function is used to append new messages to the list instead of overwriting it. \n",
    "* Keys without a reducer annotation will overwrite previous values."
   ]
  },
  {
   "cell_type": "code",
   "execution_count": null,
   "metadata": {},
   "outputs": [
    {
     "data": {
      "text/plain": [
       "<langgraph.graph.state.StateGraph at 0x113352a60>"
      ]
     },
     "execution_count": 5,
     "metadata": {},
     "output_type": "execute_result"
    }
   ],
   "source": [
    "from langchain_groq import ChatGroq\n",
    "\n",
    "llm = ChatGroq(model=\"llama3-70b-8192\", api_key= os.getenv(\"GROQ_API_KEY\"))\n",
    "\n",
    "\n",
    "def chatbot(state: State):\n",
    "    print(state)\n",
    "    messages = state[\"messages\"]\n",
    "    response = llm.invoke(messages)\n",
    "    return {\"messages\": response}\n",
    "\n",
    "\n",
    "# The first argument is the unique node name\n",
    "# The second argument is the function or object that will be called whenever the node is used.\n",
    "graph_builder.add_node(\"chatbot\", chatbot)"
   ]
  },
  {
   "cell_type": "markdown",
   "metadata": {},
   "source": [
    "* Notice how the chatbot node function takes the current State as input and returns a dictionary containing an updated messages list under the key \"messages\". This is the basic pattern for all LangGraph node functions.\n",
    "\n",
    "* The add_messages function in our State will append the llm's response messages to whatever messages are already in the state."
   ]
  },
  {
   "cell_type": "markdown",
   "metadata": {},
   "source": [
    "### Next, add an entry point. This tells our graph where to start its work each time we run it.\n",
    "\n",
    "##### add_edge\n",
    "\n",
    "* Adds a directed edge from the start node (or list of start nodes) to the end node.\n",
    "\n",
    "* When a single start node is provided, the graph will wait for that node to complete before executing the end node. When multiple start nodes are provided, the graph will wait for ALL of the start nodes to complete before executing the end node.\n",
    "\n",
    "Args:\n",
    "* start_key : Union[str, list[str]]\n",
    "        The key(s) of the start node(s) of the edge.\n",
    "* end_key : str\n",
    "        The key of the end node of the edge.\n"
   ]
  },
  {
   "cell_type": "code",
   "execution_count": 6,
   "metadata": {},
   "outputs": [
    {
     "data": {
      "text/plain": [
       "<langgraph.graph.state.StateGraph at 0x113352a60>"
      ]
     },
     "execution_count": 6,
     "metadata": {},
     "output_type": "execute_result"
    }
   ],
   "source": [
    "graph_builder.add_edge(start_key=START, end_key=\"chatbot\")\n"
   ]
  },
  {
   "cell_type": "markdown",
   "metadata": {},
   "source": []
  },
  {
   "cell_type": "code",
   "execution_count": 7,
   "metadata": {},
   "outputs": [
    {
     "data": {
      "text/plain": [
       "<langgraph.graph.state.StateGraph at 0x113352a60>"
      ]
     },
     "execution_count": 7,
     "metadata": {},
     "output_type": "execute_result"
    }
   ],
   "source": [
    "graph_builder.add_edge(start_key=\"chatbot\", end_key=END)\n"
   ]
  },
  {
   "cell_type": "markdown",
   "metadata": {},
   "source": [
    "* Finally, we'll want to be able to run our graph. \n",
    "* To do so, call \"compile()\" on the graph builder. This creates a \"CompiledGraph\" we can use invoke on our state."
   ]
  },
  {
   "cell_type": "code",
   "execution_count": 8,
   "metadata": {},
   "outputs": [],
   "source": [
    "graph = graph_builder.compile()\n"
   ]
  },
  {
   "cell_type": "markdown",
   "metadata": {},
   "source": [
    "\n",
    "* You can visualize the graph using the get_graph method and one of the \"draw\" methods, like draw_ascii or draw_png. The draw methods each require additional dependencies."
   ]
  },
  {
   "cell_type": "code",
   "execution_count": 9,
   "metadata": {},
   "outputs": [
    {
     "data": {
      "image/png": "[encoded data removed]",
      "text/plain": [
       "<IPython.core.display.Image object>"
      ]
     },
     "metadata": {},
     "output_type": "display_data"
    }
   ],
   "source": [
    "from IPython.display import Image, display\n",
    "\n",
    "try:\n",
    "    display(Image(graph.get_graph().draw_mermaid_png()))\n",
    "except Exception:\n",
    "    # This requires some extra dependencies and is optional\n",
    "    pass"
   ]
  },
  {
   "cell_type": "code",
   "execution_count": 10,
   "metadata": {},
   "outputs": [
    {
     "data": {
      "text/plain": [
       "{'messages': [HumanMessage(content='Tell me about yourself', additional_kwargs={}, response_metadata={}, id='4329f89e-8541-4c39-b202-cc72dfa1f976'),\n",
       "  AIMessage(content=\"I am LLaMA, an AI assistant developed by Meta AI that can understand and respond to human input in a conversational manner. I'm a large language model trained on a massive dataset of text from the internet, which allows me to understand and respond to a wide range of topics and questions.\\n\\nI don't have personal experiences, emotions, or opinions like humans do. My purpose is to provide information, answer questions, and assist with tasks to the best of my abilities based on my training. I can respond in multiple languages, including English, Spanish, French, German, Italian, Portuguese, and many more.\\n\\nI can help with a variety of tasks, such as:\\n\\n* Answering questions on a wide range of topics, from science and history to entertainment and culture\\n* Generating text on a given topic or subject\\n* Translating text from one language to another\\n* Summarizing long pieces of text into shorter, more digestible versions\\n* Offering suggestions and ideas for creative projects\\n* And much more!\\n\\nI'm constantly learning and improving, so please bear with me if I make any mistakes. I'm here to help and provide information, so feel free to ask me anything!\", additional_kwargs={}, response_metadata={'token_usage': {'completion_tokens': 243, 'prompt_tokens': 14, 'total_tokens': 257, 'completion_time': 0.694285714, 'prompt_time': 0.000306638, 'queue_time': 0.239616876, 'total_time': 0.694592352}, 'model_name': 'llama3-70b-8192', 'system_fingerprint': 'fp_2e0feca3c9', 'finish_reason': 'stop', 'logprobs': None}, id='run-0aadf6ef-6c26-4540-81fc-edac0290b31f-0', usage_metadata={'input_tokens': 14, 'output_tokens': 243, 'total_tokens': 257})]}"
      ]
     },
     "execution_count": 10,
     "metadata": {},
     "output_type": "execute_result"
    }
   ],
   "source": [
    "graph.invoke({\"messages\": [\"Tell me about yourself\"]})"
   ]
  },
  {
   "cell_type": "code",
   "execution_count": 11,
   "metadata": {},
   "outputs": [
    {
     "name": "stdout",
     "output_type": "stream",
     "text": [
      "Goodbye!\n"
     ]
    }
   ],
   "source": [
    "def chat(user_input:str):\n",
    "    for event in graph.stream({\"messages\": [ {\"role\": \"user\", \"content\": user_input}]}):\n",
    "        for value in event.values():\n",
    "            print(value[\"messages\"][-1].content)\n",
    "        \n",
    "while True:\n",
    "    try:\n",
    "        user_input = input(\"You: \")\n",
    "        if user_input.lower() in [\"exit\", \"quit\"]:\n",
    "            print(\"Goodbye!\")\n",
    "            break\n",
    "        chat(user_input)\n",
    "    except KeyboardInterrupt:\n",
    "        print(\"Goodbye!\")"
   ]
  },
  {
   "cell_type": "markdown",
   "metadata": {},
   "source": [
    "## Adding tools to the Langraph"
   ]
  },
  {
   "cell_type": "code",
   "execution_count": 68,
   "metadata": {},
   "outputs": [],
   "source": [
    "from langchain_community.tools.tavily_search import TavilySearchResults\n",
    "\n",
    "_ = os.getenv(\"TAVILY_API_KEY\")"
   ]
  },
  {
   "cell_type": "code",
   "execution_count": 69,
   "metadata": {},
   "outputs": [],
   "source": [
    "tool = TavilySearchResults(max_results=1)\n",
    "tools = [tool]\n",
    "# tool.invoke(\"What's a 'node' in LangGraph?\")"
   ]
  },
  {
   "cell_type": "code",
   "execution_count": 70,
   "metadata": {},
   "outputs": [
    {
     "data": {
      "text/plain": [
       "<langgraph.graph.state.StateGraph at 0x12079fb50>"
      ]
     },
     "execution_count": 70,
     "metadata": {},
     "output_type": "execute_result"
    }
   ],
   "source": [
    "class State(TypedDict):\n",
    "    # Messages have the type \"list\". The `add_messages` function\n",
    "    # in the annotation defines how this state key should be updated\n",
    "    # (in this case, it appends messages to the list, rather than overwriting them)\n",
    "    messages: Annotated[list, add_messages]\n",
    "\n",
    "tool_graph_builder = StateGraph(State)\n",
    "llm = ChatGroq(model=\"llama3-70b-8192\", api_key= os.getenv(\"GROQ_API_KEY\"))\n",
    "\n",
    "# Tell the LLM which tools it can call\n",
    "llm_with_tools = llm.bind_tools(tools)\n",
    "\n",
    "# defining the chatbot function:\n",
    "def chatbot(state: State):\n",
    "    message = state[\"messages\"]\n",
    "    response = llm_with_tools.invoke(message)\n",
    "    return {\"messages\": response}\n",
    "\n",
    "tool_graph_builder.add_node(\"chatbot\", chatbot)"
   ]
  },
  {
   "cell_type": "markdown",
   "metadata": {},
   "source": [
    "Next we need to create a function to actually run the tools if they are called. We'll do this by adding the tools to a new node.\n",
    "\n"
   ]
  },
  {
   "cell_type": "code",
   "execution_count": null,
   "metadata": {},
   "outputs": [
    {
     "data": {
      "text/plain": [
       "<langgraph.graph.state.StateGraph at 0x12079fb50>"
      ]
     },
     "execution_count": 71,
     "metadata": {},
     "output_type": "execute_result"
    }
   ],
   "source": [
    "import json\n",
    "\n",
    "from langchain_core.messages import ToolMessage\n",
    "\n",
    "\n",
    "class BasicToolNode:\n",
    "    \"\"\"A node that runs the tools requested in the last AIMessage.\"\"\"\n",
    "\n",
    "    def __init__(self, tools: list) -> None:\n",
    "        self.tools_by_name = {tool.name: tool for tool in tools}\n",
    "\n",
    "    def __call__(self, inputs: dict):\n",
    "        if messages := inputs.get(\"messages\", []):\n",
    "            message = messages[-1]\n",
    "        else:\n",
    "            raise ValueError(\"No message found in input\")\n",
    "        outputs = []\n",
    "        print(message.tool_calls)\n",
    "        for tool_call in message.tool_calls:\n",
    "            tool_result = self.tools_by_name[tool_call[\"name\"]].invoke(\n",
    "                tool_call[\"args\"]\n",
    "            )\n",
    "            outputs.append(\n",
    "                ToolMessage(\n",
    "                    content=json.dumps(tool_result),\n",
    "                    name=tool_call[\"name\"],\n",
    "                    tool_call_id=tool_call[\"id\"],\n",
    "                )\n",
    "            )\n",
    "        return {\"messages\": outputs}\n",
    "\n",
    "\n",
    "tool_node = BasicToolNode(tools=tools)\n",
    "tool_graph_builder.add_node(\"tools\", tool_node)"
   ]
  },
  {
   "cell_type": "markdown",
   "metadata": {},
   "source": [
    "* Conditional edges usually contain \"if\" statements to route to different nodes depending on the current graph state. These functions receive the current graph state and return a string or list of strings indicating which node(s) to call next."
   ]
  },
  {
   "cell_type": "code",
   "execution_count": null,
   "metadata": {},
   "outputs": [],
   "source": [
    "def route_tools(\n",
    "    state: State,\n",
    "):\n",
    "    \"\"\"\n",
    "    Use in the conditional_edge to route to the ToolNode if the last message\n",
    "    has tool calls. Otherwise, route to the end.\n",
    "    \"\"\"\n",
    "    if isinstance(state, list):\n",
    "        ai_message = state[-1]\n",
    "\n",
    "    elif messages := state.get(\"messages\", []):\n",
    "        ai_message = messages[-1]\n",
    "    else:\n",
    "        raise ValueError(f\"No messages found in input state to tool_edge: {state}\")\n",
    "    if hasattr(ai_message, \"tool_calls\") and len(ai_message.tool_calls) > 0:\n",
    "        return \"tools\"\n",
    "    return END"
   ]
  },
  {
   "cell_type": "code",
   "execution_count": 73,
   "metadata": {},
   "outputs": [],
   "source": [
    "\n",
    "# The `tools_condition` function returns \"tools\" if the chatbot asks to use a tool, and \"END\" if\n",
    "# it is fine directly responding. This conditional routing defines the main agent loop.\n",
    "tool_graph_builder.add_conditional_edges(\n",
    "    source=\"chatbot\",\n",
    "    path = route_tools,\n",
    "    # The following dictionary lets you tell the graph to interpret the condition's outputs as a specific node\n",
    "    # It defaults to the identity function, but if you\n",
    "    # want to use a node named something else apart from \"tools\",\n",
    "    # You can update the value of the dictionary to something else\n",
    "    # e.g., \"tools\": \"my_tools\"\n",
    "    path_map={\"tools\": \"tools\", END: END},\n",
    ")\n",
    "# Any time a tool is called, we return to the chatbot to decide the next step\n",
    "tool_graph_builder.add_edge(\"tools\", \"chatbot\")\n",
    "tool_graph_builder.add_edge(START, \"chatbot\")\n",
    "tool_graph = tool_graph_builder.compile()"
   ]
  },
  {
   "cell_type": "code",
   "execution_count": 74,
   "metadata": {},
   "outputs": [
    {
     "data": {
      "image/png": "[encoded data removed]",
      "text/plain": [
       "<IPython.core.display.Image object>"
      ]
     },
     "metadata": {},
     "output_type": "display_data"
    }
   ],
   "source": [
    "display(Image(tool_graph.get_graph().draw_mermaid_png()))"
   ]
  },
  {
   "cell_type": "code",
   "execution_count": 75,
   "metadata": {},
   "outputs": [
    {
     "name": "stdout",
     "output_type": "stream",
     "text": [
      "ai_message=AIMessage(content='', additional_kwargs={'tool_calls': [{'id': 'call_naz1', 'function': {'arguments': '{\"query\":\"LangGraph node\"}', 'name': 'tavily_search_results_json'}, 'type': 'function'}]}, response_metadata={'token_usage': {'completion_tokens': 49, 'prompt_tokens': 949, 'total_tokens': 998, 'completion_time': 0.18090165, 'prompt_time': 0.03646227, 'queue_time': 0.234908657, 'total_time': 0.21736392}, 'model_name': 'llama3-70b-8192', 'system_fingerprint': 'fp_2e0feca3c9', 'finish_reason': 'tool_calls', 'logprobs': None}, id='run-d63b5da0-b56c-414c-9dbc-3d2ee32a6af1-0', tool_calls=[{'name': 'tavily_search_results_json', 'args': {'query': 'LangGraph node'}, 'id': 'call_naz1', 'type': 'tool_call'}], usage_metadata={'input_tokens': 949, 'output_tokens': 49, 'total_tokens': 998})\n",
      "ai_message=AIMessage(content='', additional_kwargs={'tool_calls': [{'id': 'call_ech0', 'function': {'arguments': '{\"query\":\"LangGraph node definition\"}', 'name': 'tavily_search_results_json'}, 'type': 'function'}]}, response_metadata={'token_usage': {'completion_tokens': 43, 'prompt_tokens': 1187, 'total_tokens': 1230, 'completion_time': 0.122857143, 'prompt_time': 0.052115839, 'queue_time': 0.230556137, 'total_time': 0.174972982}, 'model_name': 'llama3-70b-8192', 'system_fingerprint': 'fp_2e0feca3c9', 'finish_reason': 'tool_calls', 'logprobs': None}, id='run-16c3b062-f099-4c09-a403-732c72b2b332-0', tool_calls=[{'name': 'tavily_search_results_json', 'args': {'query': 'LangGraph node definition'}, 'id': 'call_ech0', 'type': 'tool_call'}], usage_metadata={'input_tokens': 1187, 'output_tokens': 43, 'total_tokens': 1230})\n",
      "ai_message=AIMessage(content='A node in LangGraph is an entity that updates the state of the graph by returning operations to attributes of the state in the form of a key-value store.', additional_kwargs={}, response_metadata={'token_usage': {'completion_tokens': 33, 'prompt_tokens': 1426, 'total_tokens': 1459, 'completion_time': 0.136993826, 'prompt_time': 0.063344513, 'queue_time': 0.23416529200000002, 'total_time': 0.200338339}, 'model_name': 'llama3-70b-8192', 'system_fingerprint': 'fp_2e0feca3c9', 'finish_reason': 'stop', 'logprobs': None}, id='run-707180fd-79eb-45e4-9f99-63a7c78b1cd0-0', usage_metadata={'input_tokens': 1426, 'output_tokens': 33, 'total_tokens': 1459})\n"
     ]
    },
    {
     "data": {
      "text/plain": [
       "{'messages': [HumanMessage(content=\"What's a 'node' in LangGraph?\", additional_kwargs={}, response_metadata={}, id='70645dee-ec29-404f-a044-d8605480c2fb'),\n",
       "  AIMessage(content='', additional_kwargs={'tool_calls': [{'id': 'call_naz1', 'function': {'arguments': '{\"query\":\"LangGraph node\"}', 'name': 'tavily_search_results_json'}, 'type': 'function'}]}, response_metadata={'token_usage': {'completion_tokens': 49, 'prompt_tokens': 949, 'total_tokens': 998, 'completion_time': 0.18090165, 'prompt_time': 0.03646227, 'queue_time': 0.234908657, 'total_time': 0.21736392}, 'model_name': 'llama3-70b-8192', 'system_fingerprint': 'fp_2e0feca3c9', 'finish_reason': 'tool_calls', 'logprobs': None}, id='run-d63b5da0-b56c-414c-9dbc-3d2ee32a6af1-0', tool_calls=[{'name': 'tavily_search_results_json', 'args': {'query': 'LangGraph node'}, 'id': 'call_naz1', 'type': 'tool_call'}], usage_metadata={'input_tokens': 949, 'output_tokens': 49, 'total_tokens': 998}),\n",
       "  ToolMessage(content='[{\"url\": \"https://blog.langchain.dev/langgraph/\", \"content\": \"TL;DR: LangGraph is module built on top of LangChain to better enable creation of cyclical graphs, often needed for agent runtimes. This state is updated by nodes in the graph, which return operations to attributes of this state (in the form of a key-value store). After adding nodes, you can then add edges to create the graph. An example of this may be in the basic agent runtime, where we always want the model to be called after we call a tool. graph.add_edge(\\\\\"tools\\\\\", \\\\\"model\\\\\") The state of this graph by default contains concepts that should be familiar to you if you\\'ve used LangChain agents: input, chat_history, intermediate_steps (and agent_outcome to represent the most recent agent outcome)\"}]', name='tavily_search_results_json', id='14f68248-5a72-4fe9-9a9b-9ad4078a347a', tool_call_id='call_naz1'),\n",
       "  AIMessage(content='', additional_kwargs={'tool_calls': [{'id': 'call_ech0', 'function': {'arguments': '{\"query\":\"LangGraph node definition\"}', 'name': 'tavily_search_results_json'}, 'type': 'function'}]}, response_metadata={'token_usage': {'completion_tokens': 43, 'prompt_tokens': 1187, 'total_tokens': 1230, 'completion_time': 0.122857143, 'prompt_time': 0.052115839, 'queue_time': 0.230556137, 'total_time': 0.174972982}, 'model_name': 'llama3-70b-8192', 'system_fingerprint': 'fp_2e0feca3c9', 'finish_reason': 'tool_calls', 'logprobs': None}, id='run-16c3b062-f099-4c09-a403-732c72b2b332-0', tool_calls=[{'name': 'tavily_search_results_json', 'args': {'query': 'LangGraph node definition'}, 'id': 'call_ech0', 'type': 'tool_call'}], usage_metadata={'input_tokens': 1187, 'output_tokens': 43, 'total_tokens': 1230}),\n",
       "  ToolMessage(content='[{\"url\": \"https://blog.langchain.dev/langgraph/\", \"content\": \"TL;DR: LangGraph is module built on top of LangChain to better enable creation of cyclical graphs, often needed for agent runtimes. This state is updated by nodes in the graph, which return operations to attributes of this state (in the form of a key-value store). After adding nodes, you can then add edges to create the graph. An example of this may be in the basic agent runtime, where we always want the model to be called after we call a tool. graph.add_edge(\\\\\"tools\\\\\", \\\\\"model\\\\\") The state of this graph by default contains concepts that should be familiar to you if you\\'ve used LangChain agents: input, chat_history, intermediate_steps (and agent_outcome to represent the most recent agent outcome)\"}]', name='tavily_search_results_json', id='579e9159-47e8-4205-9a83-114d5006c5f4', tool_call_id='call_ech0'),\n",
       "  AIMessage(content='A node in LangGraph is an entity that updates the state of the graph by returning operations to attributes of the state in the form of a key-value store.', additional_kwargs={}, response_metadata={'token_usage': {'completion_tokens': 33, 'prompt_tokens': 1426, 'total_tokens': 1459, 'completion_time': 0.136993826, 'prompt_time': 0.063344513, 'queue_time': 0.23416529200000002, 'total_time': 0.200338339}, 'model_name': 'llama3-70b-8192', 'system_fingerprint': 'fp_2e0feca3c9', 'finish_reason': 'stop', 'logprobs': None}, id='run-707180fd-79eb-45e4-9f99-63a7c78b1cd0-0', usage_metadata={'input_tokens': 1426, 'output_tokens': 33, 'total_tokens': 1459})]}"
      ]
     },
     "execution_count": 75,
     "metadata": {},
     "output_type": "execute_result"
    }
   ],
   "source": [
    "user_input = \"What's a 'node' in LangGraph?\"\n",
    "tool_graph.invoke({\"messages\": [ {\"role\": \"user\", \"content\": user_input}]})"
   ]
  },
  {
   "cell_type": "code",
   "execution_count": 78,
   "metadata": {},
   "outputs": [
    {
     "name": "stdout",
     "output_type": "stream",
     "text": [
      "ai_message=AIMessage(content='', additional_kwargs={'tool_calls': [{'id': 'call_hg4p', 'function': {'arguments': '{\"query\":\"Who is the prime minister of India\"}', 'name': 'tavily_search_results_json'}, 'type': 'function'}]}, response_metadata={'token_usage': {'completion_tokens': 53, 'prompt_tokens': 947, 'total_tokens': 1000, 'completion_time': 0.171517849, 'prompt_time': 0.036281817, 'queue_time': 0.245789568, 'total_time': 0.207799666}, 'model_name': 'llama3-70b-8192', 'system_fingerprint': 'fp_2e0feca3c9', 'finish_reason': 'tool_calls', 'logprobs': None}, id='run-d826cf9f-5771-4f5a-ab1d-d7a79bcaa0dc-0', tool_calls=[{'name': 'tavily_search_results_json', 'args': {'query': 'Who is the prime minister of India'}, 'id': 'call_hg4p', 'type': 'tool_call'}], usage_metadata={'input_tokens': 947, 'output_tokens': 53, 'total_tokens': 1000})\n",
      "Assistant: {'messages': AIMessage(content='', additional_kwargs={'tool_calls': [{'id': 'call_hg4p', 'function': {'arguments': '{\"query\":\"Who is the prime minister of India\"}', 'name': 'tavily_search_results_json'}, 'type': 'function'}]}, response_metadata={'token_usage': {'completion_tokens': 53, 'prompt_tokens': 947, 'total_tokens': 1000, 'completion_time': 0.171517849, 'prompt_time': 0.036281817, 'queue_time': 0.245789568, 'total_time': 0.207799666}, 'model_name': 'llama3-70b-8192', 'system_fingerprint': 'fp_2e0feca3c9', 'finish_reason': 'tool_calls', 'logprobs': None}, id='run-d826cf9f-5771-4f5a-ab1d-d7a79bcaa0dc-0', tool_calls=[{'name': 'tavily_search_results_json', 'args': {'query': 'Who is the prime minister of India'}, 'id': 'call_hg4p', 'type': 'tool_call'}], usage_metadata={'input_tokens': 947, 'output_tokens': 53, 'total_tokens': 1000})}\n",
      "Assistant: {'messages': [ToolMessage(content='[{\"url\": \"http://www.pmindia.gov.in/en/\", \"content\": \"PM\\\\u2019s Visits PM\\\\u2019s Speeches PM\\\\u2019s Speeches (Videos) 07 Feb, 2025The Prime Minister Shri Narendra Modi chaired an extensive meeting of the Advisory Board of WAVES through Video Conference today. 07 Feb, 2025Hailing Shri Akkineni Nageswar Rao as the pride of India, the Prime Minister Shri Narendra Modi today remarked that his iconic performances will continue to enthral generations to come. 07 Feb, 2025The Union Cabinet, chaired by the Prime Minister Shri Narendra Modi, has approved the extension the tenure of the National Commission for Safai Karamcharis (NCSK) for three years beyond 31.03.2025 (i.e. upto 31.03.2028). Shri Narendra Modi was sworn-in as India\\\\u2019s Prime Minister for the third time on 9th June 2024, following another decisive victory in the 2024 Parliamentary elections.\"}]', name='tavily_search_results_json', id='fcd013cc-7e29-4229-9163-005e7cc7c029', tool_call_id='call_hg4p')]}\n",
      "ai_message=AIMessage(content='The prime minister of India is Shri Narendra Modi.', additional_kwargs={}, response_metadata={'token_usage': {'completion_tokens': 12, 'prompt_tokens': 1247, 'total_tokens': 1259, 'completion_time': 0.072581143, 'prompt_time': 0.055147886, 'queue_time': 0.223829596, 'total_time': 0.127729029}, 'model_name': 'llama3-70b-8192', 'system_fingerprint': 'fp_2e0feca3c9', 'finish_reason': 'stop', 'logprobs': None}, id='run-1552c786-4c3c-412e-b743-8ea06ab89d56-0', usage_metadata={'input_tokens': 1247, 'output_tokens': 12, 'total_tokens': 1259})\n",
      "Assistant: {'messages': AIMessage(content='The prime minister of India is Shri Narendra Modi.', additional_kwargs={}, response_metadata={'token_usage': {'completion_tokens': 12, 'prompt_tokens': 1247, 'total_tokens': 1259, 'completion_time': 0.072581143, 'prompt_time': 0.055147886, 'queue_time': 0.223829596, 'total_time': 0.127729029}, 'model_name': 'llama3-70b-8192', 'system_fingerprint': 'fp_2e0feca3c9', 'finish_reason': 'stop', 'logprobs': None}, id='run-1552c786-4c3c-412e-b743-8ea06ab89d56-0', usage_metadata={'input_tokens': 1247, 'output_tokens': 12, 'total_tokens': 1259})}\n"
     ]
    }
   ],
   "source": [
    "def stream_graph_updates(user_input: str):\n",
    "    for event in tool_graph.stream({\"messages\": [{\"role\": \"user\", \"content\": user_input}]}):\n",
    "        for value in event.values():\n",
    "            print(\"Assistant:\", value)\n",
    "\n",
    "user_input = \"Who is the prime minister of India?\"\n",
    "stream_graph_updates(user_input)"
   ]
  },
  {
   "cell_type": "code",
   "execution_count": 81,
   "metadata": {},
   "outputs": [],
   "source": [
    "from langgraph.prebuilt import ToolNode, tools_condition\n",
    "\n",
    "class State(TypedDict):\n",
    "    messages: Annotated[list, add_messages]\n",
    "\n",
    "simple_tool_graph_builder = StateGraph(State)\n",
    "\n",
    "tool = TavilySearchResults(max_results=1)\n",
    "tools = [tool]\n",
    "llm = ChatGroq(model=\"llama3-70b-8192\", api_key= os.getenv(\"GROQ_API_KEY\"))\n",
    "llm_with_tools = llm.bind_tools(tools)\n",
    "\n",
    "def chatbot(state: State):\n",
    "    message = state[\"messages\"]\n",
    "    response = llm_with_tools.invoke(message)\n",
    "    return {\"messages\": response}\n",
    "\n",
    "simple_tool_graph_builder.add_node(\"chatbot\", chatbot)\n",
    "\n",
    "tool_node = ToolNode(tools=tools)\n",
    "simple_tool_graph_builder.add_node(\"tools\", tool_node)\n",
    "\n",
    "simple_tool_graph_builder.add_conditional_edges(\n",
    "    source=\"chatbot\",\n",
    "    path = tools_condition,\n",
    "    path_map={\"tools\": \"tools\", END: END},\n",
    ")\n",
    "\n",
    "simple_tool_graph_builder.add_edge(\"tools\", \"chatbot\")\n",
    "simple_tool_graph_builder.add_edge(START, \"chatbot\")\n",
    "simple_tool_graph = simple_tool_graph_builder.compile()"
   ]
  },
  {
   "cell_type": "code",
   "execution_count": 83,
   "metadata": {},
   "outputs": [
    {
     "data": {
      "text/plain": [
       "{'messages': [HumanMessage(content='Tell me about yourself', additional_kwargs={}, response_metadata={}, id='496bdc70-a9c3-4a63-b657-364f1993594c'),\n",
       "  AIMessage(content='', additional_kwargs={'tool_calls': [{'id': 'call_h974', 'function': {'arguments': '{\"query\":\"information about myself\"}', 'name': 'tavily_search_results_json'}, 'type': 'function'}]}, response_metadata={'token_usage': {'completion_tokens': 49, 'prompt_tokens': 943, 'total_tokens': 992, 'completion_time': 0.162150408, 'prompt_time': 0.0367299, 'queue_time': 0.23897015199999996, 'total_time': 0.198880308}, 'model_name': 'llama3-70b-8192', 'system_fingerprint': 'fp_2e0feca3c9', 'finish_reason': 'tool_calls', 'logprobs': None}, id='run-6ad050cf-9d81-451d-90b8-f5577d45cfc3-0', tool_calls=[{'name': 'tavily_search_results_json', 'args': {'query': 'information about myself'}, 'id': 'call_h974', 'type': 'tool_call'}], usage_metadata={'input_tokens': 943, 'output_tokens': 49, 'total_tokens': 992}),\n",
       "  ToolMessage(content='[{\"url\": \"https://www.angelfire.com/gundam/hiyo/csc326/\", \"content\": \"I am a very energetic person. I fidget, I love running around, I whistle a lot, and I benefit from working out regularly. I am an outdoors person—I love playing\"}]', name='tavily_search_results_json', id='6e7b1278-3a98-4f08-8f0d-203ef3388e75', tool_call_id='call_h974', artifact={'query': 'information about myself', 'follow_up_questions': None, 'answer': None, 'images': [], 'results': [{'url': 'https://www.angelfire.com/gundam/hiyo/csc326/', 'title': '1) Basic information about yourself (including strengths, experiences)', 'content': 'I am a very energetic person. I fidget, I love running around, I whistle a lot, and I benefit from working out regularly. I am an outdoors person—I love playing', 'score': 0.80698997, 'raw_content': None}], 'response_time': 1.65}),\n",
       "  AIMessage(content=\"It seems like the tool call yielded some information about yourself. Based on the result, I'll respond directly without using a tool this time. \\n\\nIt sounds like you're an energetic and outdoorsy person who enjoys physical activities like running and working out. You also seem to have a playful side, whistling and fidgeting. Is that a correct interpretation of the information provided?\", additional_kwargs={}, response_metadata={'token_usage': {'completion_tokens': 78, 'prompt_tokens': 1074, 'total_tokens': 1152, 'completion_time': 0.343911502, 'prompt_time': 0.042005358, 'queue_time': 0.240846157, 'total_time': 0.38591686}, 'model_name': 'llama3-70b-8192', 'system_fingerprint': 'fp_2e0feca3c9', 'finish_reason': 'stop', 'logprobs': None}, id='run-8c93191b-9b24-46eb-98f4-18610ff44965-0', usage_metadata={'input_tokens': 1074, 'output_tokens': 78, 'total_tokens': 1152})]}"
      ]
     },
     "execution_count": 83,
     "metadata": {},
     "output_type": "execute_result"
    }
   ],
   "source": [
    "simple_tool_graph.invoke({\"messages\": [ {\"role\": \"user\", \"content\": \"Tell me about yourself\"}]})\n"
   ]
  },
  {
   "cell_type": "markdown",
   "metadata": {},
   "source": [
    "## Simple Tool Call Graph"
   ]
  },
  {
   "cell_type": "code",
   "execution_count": 139,
   "metadata": {},
   "outputs": [],
   "source": [
    "from langgraph.graph import MessageGraph\n",
    "def ulfa(first: int, second: int):\n",
    "    \"\"\"Adds two numbers\"\"\"\n",
    "    return first * second\n",
    "\n",
    "def do_yoyo(first: int, second: int):\n",
    "    \"\"\"Multiplies two numbers\"\"\"\n",
    "    return first + second\n",
    "\n",
    "tools = [ulfa, do_yoyo]\n",
    "\n",
    "model = ChatGroq(model=\"llama-3.3-70b-versatile\", api_key= os.getenv(\"GROQ_API_KEY\"))\n",
    "model_with_tools = model.bind_tools(tools)\n",
    "\n",
    "simple_tool_graph_builder = MessageGraph()\n",
    "\n",
    "simple_tool_graph_builder.add_node(\"model\", model_with_tools)\n",
    "\n",
    "action_node = ToolNode(tools=tools)\n",
    "simple_tool_graph_builder.add_node(\"action\", action_node)\n",
    "\n",
    "simple_tool_graph_builder.set_entry_point(\"model\")\n",
    "simple_tool_graph_builder.add_edge(\"action\", END)\n",
    "\n",
    "def router(state):\n",
    "    last_message = state[-1]\n",
    "    if hasattr(last_message, \"tool_calls\"):\n",
    "        return \"action\"\n",
    "    else:\n",
    "      return END\n",
    "\n",
    "simple_tool_graph_builder.add_conditional_edges(\n",
    "    source=\"model\",\n",
    "    path = router,\n",
    ")\n",
    "\n",
    "\n",
    "simple_tool_graph = simple_tool_graph_builder.compile()"
   ]
  },
  {
   "cell_type": "code",
   "execution_count": 143,
   "metadata": {},
   "outputs": [
    {
     "data": {
      "image/png": "[encoded data removed]",
      "text/plain": [
       "<IPython.core.display.Image object>"
      ]
     },
     "metadata": {},
     "output_type": "display_data"
    }
   ],
   "source": [
    "display(Image(simple_tool_graph.get_graph().draw_mermaid_png()))"
   ]
  },
  {
   "cell_type": "markdown",
   "metadata": {},
   "source": [
    "## Based on the question asked, the LLM will decide if it needs to use the tools it has at it's disposal. \n",
    "* How does the LLM know which tool to use? It will decide based on the description of the tools, doc strings if we are writing custom tools using our own functions\n",
    "* Here we have supplied two tool, ulfa, do_yoyo, the description of ulfa is \"add two numbers\" but it does multiplication. When we ask the LLM to add two numbers, it will use the tool ulfa based on the description of the tool ulfa. But as the function ulfa multiplies numbers, we get a response of multipliation:\n",
    "q = 100 + 52\n",
    "answer = 5200\n",
    "\n",
    "Hence it is important to give the right description for the functions and use appropriate names for the functions that are being used as tools. "
   ]
  },
  {
   "cell_type": "code",
   "execution_count": 141,
   "metadata": {},
   "outputs": [
    {
     "data": {
      "text/plain": [
       "[HumanMessage(content='What is 100+52', additional_kwargs={}, response_metadata={}, id='09514aa1-1e44-4ae0-a5ea-73fcf408601b'),\n",
       " AIMessage(content='', additional_kwargs={'tool_calls': [{'id': 'call_jzkj', 'function': {'arguments': '{\"first\":100,\"second\":52}', 'name': 'ulfa'}, 'type': 'function'}]}, response_metadata={'token_usage': {'completion_tokens': 17, 'prompt_tokens': 277, 'total_tokens': 294, 'completion_time': 0.061818182, 'prompt_time': 0.02170253, 'queue_time': 0.223848274, 'total_time': 0.083520712}, 'model_name': 'llama-3.3-70b-versatile', 'system_fingerprint': 'fp_2ca0059abb', 'finish_reason': 'tool_calls', 'logprobs': None}, id='run-8126289f-c9be-4958-ae5e-c409d81cb72a-0', tool_calls=[{'name': 'ulfa', 'args': {'first': 100, 'second': 52}, 'id': 'call_jzkj', 'type': 'tool_call'}], usage_metadata={'input_tokens': 277, 'output_tokens': 17, 'total_tokens': 294}),\n",
       " ToolMessage(content='5200', name='ulfa', id='85557ad3-2c59-4233-aaa5-d34fb126bce9', tool_call_id='call_jzkj')]"
      ]
     },
     "execution_count": 141,
     "metadata": {},
     "output_type": "execute_result"
    }
   ],
   "source": [
    "simple_tool_graph.invoke(\"What is 100+52\")"
   ]
  },
  {
   "cell_type": "markdown",
   "metadata": {},
   "source": [
    "## In the below question the tools are not used, the answer is straight from the LLM's knowledge"
   ]
  },
  {
   "cell_type": "code",
   "execution_count": 142,
   "metadata": {},
   "outputs": [
    {
     "data": {
      "text/plain": [
       "[HumanMessage(content='who is the prime minister of India?', additional_kwargs={}, response_metadata={}, id='d3993263-300f-44ff-a7b8-d0df80cbfad2'),\n",
       " AIMessage(content='I\\'m not aware of the current Prime Minister of India. For the most up-to-date information, I recommend checking a reliable news source or the official website of the Government of India.\\n\\nIf you want to perform a search for this information, I can suggest searching for \"Current Prime Minister of India\" or \"Prime Minister of India\" along with the current year to get the latest information.\\n\\nHowever, I don\\'t have any specific information about the current Prime Minister of India, and I don\\'t want to provide outdated or incorrect information. It\\'s always best to verify information from a reliable source.', additional_kwargs={}, response_metadata={'token_usage': {'completion_tokens': 120, 'prompt_tokens': 279, 'total_tokens': 399, 'completion_time': 0.436363636, 'prompt_time': 0.015254778, 'queue_time': 0.223601567, 'total_time': 0.451618414}, 'model_name': 'llama-3.3-70b-versatile', 'system_fingerprint': 'fp_76dc6cf67d', 'finish_reason': 'stop', 'logprobs': None}, id='run-ab95d330-997a-43ea-81eb-9c9d9c5c84c9-0', usage_metadata={'input_tokens': 279, 'output_tokens': 120, 'total_tokens': 399})]"
      ]
     },
     "execution_count": 142,
     "metadata": {},
     "output_type": "execute_result"
    }
   ],
   "source": [
    "simple_tool_graph.invoke(\"who is the prime minister of India?\")"
   ]
  },
  {
   "cell_type": "markdown",
   "metadata": {},
   "source": []
  }
 ],
 "metadata": {
  "kernelspec": {
   "display_name": ".venv",
   "language": "python",
   "name": "python3"
  },
  "language_info": {
   "codemirror_mode": {
    "name": "ipython",
    "version": 3
   },
   "file_extension": ".py",
   "mimetype": "text/x-python",
   "name": "python",
   "nbconvert_exporter": "python",
   "pygments_lexer": "ipython3",
   "version": "3.9.6"
  }
 },
 "nbformat": 4,
 "nbformat_minor": 2
}
